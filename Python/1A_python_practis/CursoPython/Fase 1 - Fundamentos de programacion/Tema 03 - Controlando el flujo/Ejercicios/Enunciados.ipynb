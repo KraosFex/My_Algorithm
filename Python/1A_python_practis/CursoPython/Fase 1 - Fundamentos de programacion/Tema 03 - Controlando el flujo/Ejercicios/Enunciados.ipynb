{
 "cells": [
  {
   "cell_type": "markdown",
   "metadata": {},
   "source": [
    "# Tema 03: Control de flujo (Enunciados)\n",
    "*Nota: Estos ejercicios son optativos para hacer al final de la unidad y están pensados para apoyar tu aprendizaje*."
   ]
  },
  {
   "cell_type": "markdown",
   "metadata": {},
   "source": [
    "**1) Realiza un programa que lea dos números por teclado y permita elegir entre 3 opciones en un menú:** \n",
    "* Mostrar una suma de los dos números\n",
    "* Mostrar una resta de los dos números (el primero menos el segundo)\n",
    "* Mostrar una multiplicación de los dos números\n",
    "* En caso de no introducir una opción válida, el programa informará de que no es correcta."
   ]
  },
  {
   "cell_type": "code",
   "execution_count": 1,
   "metadata": {},
   "outputs": [
    {
     "name": "stdout",
     "output_type": "stream",
     "text": [
      " \n",
      "         opcion 1 - sumar dos número\n",
      "         opcion 2 - restar dos números\n",
      "         opcion 3 - multiplicar dos números\n",
      "         opcion 4 - salir\n",
      "         \n",
      " elija una opcion, precionando el numero que coresponde: 1\n",
      "primer número: 1\n",
      "segundo número: 3\n",
      "4\n",
      " elija una opcion, precionando el numero que coresponde: 4\n"
     ]
    }
   ],
   "source": [
    "# Completa el ejercicio aquí\n",
    "print(''' \n",
    "         opcion 1 - sumar dos número\n",
    "         opcion 2 - restar dos números\n",
    "         opcion 3 - multiplicar dos números\n",
    "         opcion 4 - salir\n",
    "         ''')\n",
    "while True:\n",
    "    opcion = input(' elija una opcion, precionando el numero que coresponde: ')\n",
    "    if opcion == \"1\":\n",
    "        numero1 = int(input('primer número: '))\n",
    "        numero2 = int(input('segundo número: '))\n",
    "        print(numero1 + numero2)\n",
    "    elif opcion == \"2\":\n",
    "        numero1 = int(input('primer número: '))\n",
    "        numero2 = int(input('segundo número: '))\n",
    "        print(numero1 - numero2)\n",
    "    elif opcion == \"3\":\n",
    "        numero1 = int(input('primer número: '))\n",
    "        numero2 = int(input('segundo número: '))\n",
    "        print(numero1 * numero2)\n",
    "    elif opcion == \"4\":\n",
    "        break\n",
    "    else:\n",
    "        print('No elegiste una opcion valida')\n"
   ]
  },
  {
   "cell_type": "markdown",
   "metadata": {},
   "source": [
    "**2) Realiza un programa que lea un número impar por teclado. Si el usuario no introduce un número impar, debe repetise el proceso hasta que lo introduzca correctamente.**"
   ]
  },
  {
   "cell_type": "code",
   "execution_count": 3,
   "metadata": {},
   "outputs": [
    {
     "name": "stdout",
     "output_type": "stream",
     "text": [
      "Introduzca un numero impart: 2\n",
      "Incorrecto ese es un numero par\n",
      "Introduzca un numero impart: 4\n",
      "Incorrecto ese es un numero par\n",
      "Introduzca un numero impart: 6\n",
      "Incorrecto ese es un numero par\n",
      "Introduzca un numero impart: 8\n",
      "Incorrecto ese es un numero par\n",
      "Introduzca un numero impart: 3\n",
      "Correcto ese es un numero impar\n"
     ]
    }
   ],
   "source": [
    "# Completa el ejercicio aquí\n",
    "while True:\n",
    "    numero = int(input('Introduzca un numero impart: '))\n",
    "    if numero%2 == 0:\n",
    "        print('Incorrecto ese es un numero par')\n",
    "        pass\n",
    "    else:\n",
    "        print('Correcto ese es un numero impar')\n",
    "        break\n",
    "    "
   ]
  },
  {
   "cell_type": "markdown",
   "metadata": {},
   "source": [
    "**3) Realiza un programa que sume todos los números enteros pares desde el 0 hasta el 100:**\n",
    "\n",
    "*Sugerencia: Puedes utilizar la funciones sum() y range() para hacerlo más fácil. El tercer parámetro en la función range(inicio, fin, salto) indica un salto de números, pruébalo.*"
   ]
  },
  {
   "cell_type": "code",
   "execution_count": 3,
   "metadata": {},
   "outputs": [
    {
     "name": "stdout",
     "output_type": "stream",
     "text": [
      "5050\n"
     ]
    }
   ],
   "source": [
    "# Completa el ejercicio aquí\n",
    "suma = 0\n",
    "for n in range(0, 101):\n",
    "    suma += n\n",
    "\n",
    "print(suma)\n"
   ]
  },
  {
   "cell_type": "markdown",
   "metadata": {},
   "source": [
    "**4) Realiza un programa que pida al usuario cuantos números quiere introducir. Luego lee todos los números y realiza una media aritmética:**\n"
   ]
  },
  {
   "cell_type": "code",
   "execution_count": 8,
   "metadata": {},
   "outputs": [
    {
     "name": "stdout",
     "output_type": "stream",
     "text": [
      "¿Cuantos numeros quires introducir? :5\n",
      "Añade un numero: 2\n",
      "Añade un numero: 3\n",
      "Añade un numero: 4\n",
      "Añade un numero: 78\n",
      "Añade un numero: 69\n",
      "31.2\n"
     ]
    }
   ],
   "source": [
    "# Completa el ejercicio aquí\n",
    "rep = int(input('¿Cuantos numeros quires introducir? :'))\n",
    "\n",
    "valor = 0\n",
    "\n",
    "for n in range(rep):\n",
    "    numero = int(input('Añade un numero: '))\n",
    "    valor += numero\n",
    "\n",
    "media = valor / rep\n",
    "    \n",
    "print(media)"
   ]
  },
  {
   "cell_type": "markdown",
   "metadata": {},
   "source": [
    "**5) Realiza un programa que pida al usuario un número entero del 0 al 9, y que mientras el número no sea correcto se repita el proceso. Luego debe comprobar si el número se encuentra en la lista de números y notificarlo:**\n",
    "\n",
    "*Consejo: La sintaxis \"valor in lista\" permite comprobar fácilmente si un valor se encuentra en una lista (devuelve True o False)*"
   ]
  },
  {
   "cell_type": "code",
   "execution_count": 1,
   "metadata": {},
   "outputs": [
    {
     "name": "stdout",
     "output_type": "stream",
     "text": [
      "introduzca un numero entero entre 0 y 9: 78\n",
      "introduzca un numero entero entre 0 y 9: 5\n",
      "tu número no esta en la lista de valores\n",
      "introduzca un numero entero entre 0 y 9: 3\n",
      "Tu número esta en la lista de valores\n",
      "introduzca un numero entero entre 0 y 9: 544\n",
      "introduzca un numero entero entre 0 y 9: 7\n",
      "tu número no esta en la lista de valores\n",
      "introduzca un numero entero entre 0 y 9: \n"
     ]
    },
    {
     "ename": "ValueError",
     "evalue": "invalid literal for int() with base 10: ''",
     "output_type": "error",
     "traceback": [
      "\u001b[1;31m---------------------------------------------------------------------------\u001b[0m",
      "\u001b[1;31mValueError\u001b[0m                                Traceback (most recent call last)",
      "\u001b[1;32m~\\AppData\\Local\\Temp\\ipykernel_11828\\1660531647.py\u001b[0m in \u001b[0;36m<module>\u001b[1;34m\u001b[0m\n\u001b[0;32m      4\u001b[0m \u001b[1;32mwhile\u001b[0m \u001b[1;32mTrue\u001b[0m\u001b[1;33m:\u001b[0m\u001b[1;33m\u001b[0m\u001b[1;33m\u001b[0m\u001b[0m\n\u001b[0;32m      5\u001b[0m     \u001b[0mvalor_entero\u001b[0m \u001b[1;33m=\u001b[0m \u001b[0minput\u001b[0m\u001b[1;33m(\u001b[0m\u001b[1;34m'introduzca un numero entero entre 0 y 9: '\u001b[0m\u001b[1;33m)\u001b[0m\u001b[1;33m\u001b[0m\u001b[1;33m\u001b[0m\u001b[0m\n\u001b[1;32m----> 6\u001b[1;33m     \u001b[1;32mif\u001b[0m \u001b[0mint\u001b[0m\u001b[1;33m(\u001b[0m\u001b[0mvalor_entero\u001b[0m\u001b[1;33m)\u001b[0m \u001b[1;33m>\u001b[0m \u001b[1;36m0\u001b[0m \u001b[1;32mand\u001b[0m \u001b[0mint\u001b[0m\u001b[1;33m(\u001b[0m\u001b[0mvalor_entero\u001b[0m\u001b[1;33m)\u001b[0m \u001b[1;33m<\u001b[0m \u001b[1;36m9\u001b[0m\u001b[1;33m:\u001b[0m\u001b[1;33m\u001b[0m\u001b[1;33m\u001b[0m\u001b[0m\n\u001b[0m\u001b[0;32m      7\u001b[0m         \u001b[1;32mif\u001b[0m \u001b[0mint\u001b[0m\u001b[1;33m(\u001b[0m\u001b[0mvalor_entero\u001b[0m\u001b[1;33m)\u001b[0m \u001b[1;32min\u001b[0m \u001b[0mnumeros\u001b[0m\u001b[1;33m:\u001b[0m\u001b[1;33m\u001b[0m\u001b[1;33m\u001b[0m\u001b[0m\n\u001b[0;32m      8\u001b[0m             \u001b[0mprint\u001b[0m\u001b[1;33m(\u001b[0m\u001b[1;34m'Tu número esta en la lista de valores'\u001b[0m\u001b[1;33m)\u001b[0m\u001b[1;33m\u001b[0m\u001b[1;33m\u001b[0m\u001b[0m\n",
      "\u001b[1;31mValueError\u001b[0m: invalid literal for int() with base 10: ''"
     ]
    }
   ],
   "source": [
    "# Completa el ejercicio aquí\n",
    "numeros = [1, 3, 6, 9]\n",
    "\n",
    "while True:\n",
    "    valor_entero = input('introduzca un numero entero entre 0 y 9: ')\n",
    "    if int(valor_entero) > 0 and int(valor_entero) < 9:\n",
    "        if int(valor_entero) in numeros:\n",
    "            print('Tu número esta en la lista de valores')\n",
    "        else:\n",
    "            print('tu número no esta en la lista de valores')\n",
    "    else:\n",
    "        pass"
   ]
  },
  {
   "cell_type": "markdown",
   "metadata": {},
   "source": [
    "**6) Utilizando la función range() y la conversión a listas genera las siguientes listas dinámicamente:**\n",
    "* Todos los números del 0 al 10 [0, 1, 2, ..., 10]\n",
    "* Todos los números del -10 al 0 [-10, -9, -8, ..., 0]\n",
    "* Todos los números pares del 0 al 20 [0, 2, 4, ..., 20]\n",
    "* Todos los números impares entre -20 y 0 [-19, -17, -15, ..., -1]\n",
    "* Todos los números múltiples de 5 del 0 al 50 [0, 5, 10, ..., 50]\n",
    "\n",
    "*Pista: Utiliza el tercer parámetro de la función range(inicio, fin, salto).*"
   ]
  },
  {
   "cell_type": "code",
   "execution_count": 10,
   "metadata": {},
   "outputs": [
    {
     "name": "stdout",
     "output_type": "stream",
     "text": [
      "[0, 1, 2, 3, 4, 5, 6, 7, 8, 9, 10]\n",
      "[-10, -9, -8, -7, -6, -5, -4, -3, -2, -1, 0]\n",
      "[0, 2, 4, 6, 8, 10, 12, 14, 16, 18, 20]\n",
      "[-19, -16, -13, -10, -7, -4, -1]\n",
      "[0, 5, 10, 15, 20, 25, 30, 35, 40, 45, 50]\n"
     ]
    }
   ],
   "source": [
    "# Completa el ejercicio\n",
    "lista1 = list(range(0,11))\n",
    "lista2 = list(range(-10,1))\n",
    "lista3 = list(range(0,21,2))\n",
    "lista4 = list(range(-19, 0, 3))\n",
    "lista5 = list(range(0,51,5))\n",
    "\n",
    "\n",
    "print(lista1)\n",
    "print(lista2)\n",
    "print(lista3)\n",
    "print(lista4)\n",
    "print(lista5)"
   ]
  },
  {
   "cell_type": "markdown",
   "metadata": {},
   "source": [
    "**7) Dadas dos listas, debes generar una tercera con todos los elementos que se repitan en ellas, pero no debe repetise ningún elemento en la nueva lista:**"
   ]
  },
  {
   "cell_type": "code",
   "execution_count": 13,
   "metadata": {},
   "outputs": [
    {
     "name": "stdout",
     "output_type": "stream",
     "text": [
      "[0, 1, 2, 3, 4, 5, 6, 7, 8, 9, 10, 12, 14, 16, 18, 20]\n"
     ]
    }
   ],
   "source": [
    "# Completa el ejercicio aquí\n",
    "nueva_lista = list(set(lista1 + lista3))\n",
    "\n",
    "print(nueva_lista)"
   ]
  },
  {
   "cell_type": "code",
   "execution_count": null,
   "metadata": {},
   "outputs": [],
   "source": []
  }
 ],
 "metadata": {
  "anaconda-cloud": {},
  "kernelspec": {
   "display_name": "Python 3 (ipykernel)",
   "language": "python",
   "name": "python3"
  },
  "language_info": {
   "codemirror_mode": {
    "name": "ipython",
    "version": 3
   },
   "file_extension": ".py",
   "mimetype": "text/x-python",
   "name": "python",
   "nbconvert_exporter": "python",
   "pygments_lexer": "ipython3",
   "version": "3.9.13"
  }
 },
 "nbformat": 4,
 "nbformat_minor": 1
}
