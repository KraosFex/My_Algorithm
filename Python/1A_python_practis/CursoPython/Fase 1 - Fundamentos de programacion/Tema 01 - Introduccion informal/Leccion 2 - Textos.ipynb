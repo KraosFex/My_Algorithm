{
 "cells": [
  {
   "cell_type": "code",
   "execution_count": 1,
   "metadata": {},
   "outputs": [],
   "source": [
    "# Variables disponibles\n",
    "cadena_corrupta = \"airotsiH,6.7,aícraG nómaR\""
   ]
  },
  {
   "cell_type": "code",
   "execution_count": 7,
   "metadata": {},
   "outputs": [],
   "source": [
    "# Empezamos dando la vuelta a la cadena corrupta\n",
    "cadena_volteada = cadena_corrupta[::-1]"
   ]
  },
  {
   "cell_type": "code",
   "execution_count": 3,
   "metadata": {},
   "outputs": [],
   "source": [
    "# Luego extraemos cada porción de la cadena con slicing en diferentes variables\n",
    "nombre          = cadena_volteada[:12]\n",
    "nota            = cadena_volteada[13:16]\n",
    "materia         = cadena_volteada[17:]"
   ]
  },
  {
   "cell_type": "code",
   "execution_count": 4,
   "metadata": {},
   "outputs": [],
   "source": [
    " # A partir de las variables extraídas generamos la cadena formateada\n",
    "cadena_formateada = nombre + \" ha sacado un \" + nota + \" en \" + materia"
   ]
  },
  {
   "cell_type": "code",
   "execution_count": 5,
   "metadata": {},
   "outputs": [
    {
     "name": "stdout",
     "output_type": "stream",
     "text": [
      "Ramón García ha sacado un 7.6 en Historia\n"
     ]
    }
   ],
   "source": [
    "print(cadena_formateada)"
   ]
  },
  {
   "cell_type": "code",
   "execution_count": 1,
   "metadata": {},
   "outputs": [],
   "source": [
    "c = 'una cadena de caracteres multipicada por: '"
   ]
  },
  {
   "cell_type": "code",
   "execution_count": 2,
   "metadata": {},
   "outputs": [],
   "source": [
    "n = 5"
   ]
  },
  {
   "cell_type": "code",
   "execution_count": 3,
   "metadata": {},
   "outputs": [
    {
     "name": "stdout",
     "output_type": "stream",
     "text": [
      "una cadena de caracteres multipicada por: 55555\n"
     ]
    }
   ],
   "source": [
    "print(c + str(n) * n)"
   ]
  },
  {
   "cell_type": "code",
   "execution_count": 6,
   "metadata": {},
   "outputs": [
    {
     "name": "stdout",
     "output_type": "stream",
     "text": [
      "una cadena de caracteres multipicada por: 5\n",
      "una cadena de caracteres multipicada por: 5\n",
      "una cadena de caracteres multipicada por: 5\n",
      "una cadena de caracteres multipicada por: 5\n",
      "una cadena de caracteres multipicada por: 5\n",
      "\n"
     ]
    }
   ],
   "source": [
    "print((c + str(n) + '\\n') * n)"
   ]
  },
  {
   "cell_type": "code",
   "execution_count": 7,
   "metadata": {},
   "outputs": [],
   "source": [
    "cadena_volteada = (c + str(n))[::-1]"
   ]
  },
  {
   "cell_type": "code",
   "execution_count": 8,
   "metadata": {},
   "outputs": [
    {
     "name": "stdout",
     "output_type": "stream",
     "text": [
      "5 :rop adacipitlum seretcarac ed anedac anu\n",
      "5 :rop adacipitlum seretcarac ed anedac anu\n",
      "5 :rop adacipitlum seretcarac ed anedac anu\n",
      "5 :rop adacipitlum seretcarac ed anedac anu\n",
      "5 :rop adacipitlum seretcarac ed anedac anu\n",
      "\n"
     ]
    }
   ],
   "source": [
    "print((cadena_volteada + '\\n') * n)"
   ]
  },
  {
   "cell_type": "code",
   "execution_count": 18,
   "metadata": {},
   "outputs": [],
   "source": [
    "Nombre_de_personaje = 'Kung fu chin'"
   ]
  },
  {
   "cell_type": "code",
   "execution_count": 19,
   "metadata": {},
   "outputs": [],
   "source": [
    "Nombre_de_personaje = 'L' + Nombre_de_personaje[1:]"
   ]
  },
  {
   "cell_type": "code",
   "execution_count": 20,
   "metadata": {},
   "outputs": [
    {
     "name": "stdout",
     "output_type": "stream",
     "text": [
      "Lung fu chin\n"
     ]
    }
   ],
   "source": [
    "print(Nombre_de_personaje)"
   ]
  },
  {
   "cell_type": "code",
   "execution_count": null,
   "metadata": {},
   "outputs": [],
   "source": []
  }
 ],
 "metadata": {
  "anaconda-cloud": {},
  "kernelspec": {
   "display_name": "Python 3 (ipykernel)",
   "language": "python",
   "name": "python3"
  },
  "language_info": {
   "codemirror_mode": {
    "name": "ipython",
    "version": 3
   },
   "file_extension": ".py",
   "mimetype": "text/x-python",
   "name": "python",
   "nbconvert_exporter": "python",
   "pygments_lexer": "ipython3",
   "version": "3.9.13"
  }
 },
 "nbformat": 4,
 "nbformat_minor": 1
}
